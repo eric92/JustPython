{
 "cells": [
  {
   "cell_type": "code",
   "execution_count": 1,
   "metadata": {},
   "outputs": [
    {
     "name": "stdout",
     "output_type": "stream",
     "text": [
      "Populating the interactive namespace from numpy and matplotlib\n"
     ]
    }
   ],
   "source": [
    "import pandas as pd\n",
    "%pylab inline\n",
    "import json\n",
    "from sklearn.model_selection import train_test_split \n",
    "import seaborn as sns"
   ]
  },
  {
   "cell_type": "code",
   "execution_count": 2,
   "metadata": {},
   "outputs": [],
   "source": [
    "results = []\n",
    "with open('customers.json') as json_data:\n",
    "    for line in json_data:\n",
    "        results.append(json.loads(line))"
   ]
  },
  {
   "cell_type": "code",
   "execution_count": 3,
   "metadata": {},
   "outputs": [
    {
     "data": {
      "text/plain": [
       "168"
      ]
     },
     "execution_count": 3,
     "metadata": {},
     "output_type": "execute_result"
    }
   ],
   "source": [
    "# let's see how many customers we have in there\n",
    "len(results)"
   ]
  },
  {
   "cell_type": "markdown",
   "metadata": {},
   "source": [
    "What we have now is a list of dictionnaries. To easily understand whats coming you need to understand \n",
    "two notions. the first is the principle the *get* method for dictionnary objects and the second is simply thatwe can dataframe  a list. Simple as that!<br> Now if you still dont quite understand uncomment and run the examples below"
   ]
  },
  {
   "cell_type": "code",
   "execution_count": 4,
   "metadata": {},
   "outputs": [],
   "source": [
    "#Eample 1\n",
    "#books=[{'name':'Harry Potter', 'pages':412, 'year':1997},{'name':'Sun', 'pages':60, 'year':2019},\n",
    "      #{'name':'Omen', 'pages':341, 'year':2003}]\n",
    "\n",
    "    \n",
    "#for i in books:\n",
    "    #print (i.get('name')) # this will be done in a list comprehension in next cell\n",
    "    \n",
    "\n",
    "# Example 2   \n",
    "#pd.DataFrame(['Dad', 'Mom', 'Gogo'])"
   ]
  },
  {
   "cell_type": "code",
   "execution_count": 5,
   "metadata": {},
   "outputs": [
    {
     "name": "stdout",
     "output_type": "stream",
     "text": [
      "168 \n",
      "\n",
      "dict_keys(['fraudulent', 'customer', 'orders', 'paymentMethods', 'transactions'])\n"
     ]
    }
   ],
   "source": [
    "print (len(results),'\\n')# checking the numbers of customers\n",
    "print(results[0].keys()) # sniffing the data"
   ]
  },
  {
   "cell_type": "code",
   "execution_count": 6,
   "metadata": {},
   "outputs": [
    {
     "data": {
      "text/plain": [
       "(168, 1)"
      ]
     },
     "execution_count": 6,
     "metadata": {},
     "output_type": "execute_result"
    }
   ],
   "source": [
    "fraud=pd.DataFrame([result.get('fraudulent') for result in results])\n",
    "fraud.shape"
   ]
  },
  {
   "cell_type": "code",
   "execution_count": 7,
   "metadata": {},
   "outputs": [
    {
     "data": {
      "text/html": [
       "<div>\n",
       "<style scoped>\n",
       "    .dataframe tbody tr th:only-of-type {\n",
       "        vertical-align: middle;\n",
       "    }\n",
       "\n",
       "    .dataframe tbody tr th {\n",
       "        vertical-align: top;\n",
       "    }\n",
       "\n",
       "    .dataframe thead th {\n",
       "        text-align: right;\n",
       "    }\n",
       "</style>\n",
       "<table border=\"1\" class=\"dataframe\">\n",
       "  <thead>\n",
       "    <tr style=\"text-align: right;\">\n",
       "      <th></th>\n",
       "      <th>0</th>\n",
       "    </tr>\n",
       "  </thead>\n",
       "  <tbody>\n",
       "    <tr>\n",
       "      <th>0</th>\n",
       "      <td>False</td>\n",
       "    </tr>\n",
       "    <tr>\n",
       "      <th>1</th>\n",
       "      <td>True</td>\n",
       "    </tr>\n",
       "  </tbody>\n",
       "</table>\n",
       "</div>"
      ],
      "text/plain": [
       "       0\n",
       "0  False\n",
       "1   True"
      ]
     },
     "execution_count": 7,
     "metadata": {},
     "output_type": "execute_result"
    }
   ],
   "source": [
    "fraud.head(2)"
   ]
  },
  {
   "cell_type": "code",
   "execution_count": 8,
   "metadata": {},
   "outputs": [
    {
     "data": {
      "text/plain": [
       "(168, 5)"
      ]
     },
     "execution_count": 8,
     "metadata": {},
     "output_type": "execute_result"
    }
   ],
   "source": [
    "customer=pd.DataFrame([result.get('customer') for result in results])\n",
    "customer.shape"
   ]
  },
  {
   "cell_type": "code",
   "execution_count": 9,
   "metadata": {},
   "outputs": [
    {
     "data": {
      "text/html": [
       "<div>\n",
       "<style scoped>\n",
       "    .dataframe tbody tr th:only-of-type {\n",
       "        vertical-align: middle;\n",
       "    }\n",
       "\n",
       "    .dataframe tbody tr th {\n",
       "        vertical-align: top;\n",
       "    }\n",
       "\n",
       "    .dataframe thead th {\n",
       "        text-align: right;\n",
       "    }\n",
       "</style>\n",
       "<table border=\"1\" class=\"dataframe\">\n",
       "  <thead>\n",
       "    <tr style=\"text-align: right;\">\n",
       "      <th></th>\n",
       "      <th>customerEmail</th>\n",
       "      <th>customerPhone</th>\n",
       "      <th>customerDevice</th>\n",
       "      <th>customerIPAddress</th>\n",
       "      <th>customerBillingAddress</th>\n",
       "    </tr>\n",
       "  </thead>\n",
       "  <tbody>\n",
       "    <tr>\n",
       "      <th>165</th>\n",
       "      <td>johnlowery@gmail.com</td>\n",
       "      <td>635.676.0955x524</td>\n",
       "      <td>969zz9zdj8z4gns4sx5p</td>\n",
       "      <td>f82c:811f:8a02:e2d6:79b:fcaa:42de:570b</td>\n",
       "      <td>548 Bryant Inlet\\nVeronicaside, OK 00522</td>\n",
       "    </tr>\n",
       "    <tr>\n",
       "      <th>166</th>\n",
       "      <td>ethompson@jackson-sanders.com</td>\n",
       "      <td>962.300.2250</td>\n",
       "      <td>navessqcnmc9csfjn5cj</td>\n",
       "      <td>203.246.172.244</td>\n",
       "      <td>16953 Jennifer Springs\\nKathybury, IL 02095-3215</td>\n",
       "    </tr>\n",
       "    <tr>\n",
       "      <th>167</th>\n",
       "      <td>dawn05@tucker-brown.com</td>\n",
       "      <td>(089)703-7360x8848</td>\n",
       "      <td>lu4fgcug8dr0dwbcuui1</td>\n",
       "      <td>132.132.95.33</td>\n",
       "      <td>130 Kimberly Junctions\\nEricmouth, KS 59756-2919</td>\n",
       "    </tr>\n",
       "  </tbody>\n",
       "</table>\n",
       "</div>"
      ],
      "text/plain": [
       "                     customerEmail       customerPhone        customerDevice  \\\n",
       "165           johnlowery@gmail.com    635.676.0955x524  969zz9zdj8z4gns4sx5p   \n",
       "166  ethompson@jackson-sanders.com        962.300.2250  navessqcnmc9csfjn5cj   \n",
       "167        dawn05@tucker-brown.com  (089)703-7360x8848  lu4fgcug8dr0dwbcuui1   \n",
       "\n",
       "                          customerIPAddress  \\\n",
       "165  f82c:811f:8a02:e2d6:79b:fcaa:42de:570b   \n",
       "166                         203.246.172.244   \n",
       "167                           132.132.95.33   \n",
       "\n",
       "                               customerBillingAddress  \n",
       "165          548 Bryant Inlet\\nVeronicaside, OK 00522  \n",
       "166  16953 Jennifer Springs\\nKathybury, IL 02095-3215  \n",
       "167  130 Kimberly Junctions\\nEricmouth, KS 59756-2919  "
      ]
     },
     "execution_count": 9,
     "metadata": {},
     "output_type": "execute_result"
    }
   ],
   "source": [
    "customer.tail(3)"
   ]
  },
  {
   "cell_type": "code",
   "execution_count": 10,
   "metadata": {},
   "outputs": [],
   "source": [
    "customers=customer.assign(fraudulent=[result.get('fraudulent') for result in results])"
   ]
  },
  {
   "cell_type": "code",
   "execution_count": 11,
   "metadata": {},
   "outputs": [
    {
     "data": {
      "text/html": [
       "<div>\n",
       "<style scoped>\n",
       "    .dataframe tbody tr th:only-of-type {\n",
       "        vertical-align: middle;\n",
       "    }\n",
       "\n",
       "    .dataframe tbody tr th {\n",
       "        vertical-align: top;\n",
       "    }\n",
       "\n",
       "    .dataframe thead th {\n",
       "        text-align: right;\n",
       "    }\n",
       "</style>\n",
       "<table border=\"1\" class=\"dataframe\">\n",
       "  <thead>\n",
       "    <tr style=\"text-align: right;\">\n",
       "      <th></th>\n",
       "      <th>customerEmail</th>\n",
       "      <th>customerPhone</th>\n",
       "      <th>customerDevice</th>\n",
       "      <th>customerIPAddress</th>\n",
       "      <th>customerBillingAddress</th>\n",
       "      <th>fraudulent</th>\n",
       "    </tr>\n",
       "  </thead>\n",
       "  <tbody>\n",
       "    <tr>\n",
       "      <th>0</th>\n",
       "      <td>josephhoward@yahoo.com</td>\n",
       "      <td>400-108-5415</td>\n",
       "      <td>yyeiaxpltf82440jnb3v</td>\n",
       "      <td>8.129.104.40</td>\n",
       "      <td>5493 Jones Islands\\nBrownside, CA 51896</td>\n",
       "      <td>False</td>\n",
       "    </tr>\n",
       "    <tr>\n",
       "      <th>1</th>\n",
       "      <td>evansjeffery@yahoo.com</td>\n",
       "      <td>1-788-091-7546</td>\n",
       "      <td>r0jpm7xaeqqa3kr6mzum</td>\n",
       "      <td>219.173.211.202</td>\n",
       "      <td>356 Elizabeth Inlet Suite 120\\nPort Joshuabury...</td>\n",
       "      <td>True</td>\n",
       "    </tr>\n",
       "    <tr>\n",
       "      <th>2</th>\n",
       "      <td>andersonwilliam@yahoo.com</td>\n",
       "      <td>024.420.0375</td>\n",
       "      <td>4m7h5ipl1shyavt6vv2r</td>\n",
       "      <td>67b7:3db8:67e0:3bea:b9d0:90c1:2b60:b9f0</td>\n",
       "      <td>8478 Sean Ridges Apt. 441\\nDavisberg, PR 72250</td>\n",
       "      <td>False</td>\n",
       "    </tr>\n",
       "  </tbody>\n",
       "</table>\n",
       "</div>"
      ],
      "text/plain": [
       "               customerEmail   customerPhone        customerDevice  \\\n",
       "0     josephhoward@yahoo.com    400-108-5415  yyeiaxpltf82440jnb3v   \n",
       "1     evansjeffery@yahoo.com  1-788-091-7546  r0jpm7xaeqqa3kr6mzum   \n",
       "2  andersonwilliam@yahoo.com    024.420.0375  4m7h5ipl1shyavt6vv2r   \n",
       "\n",
       "                         customerIPAddress  \\\n",
       "0                             8.129.104.40   \n",
       "1                          219.173.211.202   \n",
       "2  67b7:3db8:67e0:3bea:b9d0:90c1:2b60:b9f0   \n",
       "\n",
       "                              customerBillingAddress  fraudulent  \n",
       "0            5493 Jones Islands\\nBrownside, CA 51896       False  \n",
       "1  356 Elizabeth Inlet Suite 120\\nPort Joshuabury...        True  \n",
       "2     8478 Sean Ridges Apt. 441\\nDavisberg, PR 72250       False  "
      ]
     },
     "execution_count": 11,
     "metadata": {},
     "output_type": "execute_result"
    }
   ],
   "source": [
    "customers.head(3)"
   ]
  },
  {
   "cell_type": "code",
   "execution_count": 12,
   "metadata": {},
   "outputs": [],
   "source": [
    "transactions = pd.DataFrame([result.get('transactions') for result in results])"
   ]
  },
  {
   "cell_type": "code",
   "execution_count": 13,
   "metadata": {},
   "outputs": [
    {
     "data": {
      "text/plain": [
       "{'transactionId': 'a9lcj51r',\n",
       " 'orderId': 'vjbdvd',\n",
       " 'paymentMethodId': 'wt07xm68b',\n",
       " 'transactionAmount': 18,\n",
       " 'transactionFailed': False}"
      ]
     },
     "execution_count": 13,
     "metadata": {},
     "output_type": "execute_result"
    }
   ],
   "source": [
    "transactions.iat[0,0] # sniffing"
   ]
  },
  {
   "cell_type": "code",
   "execution_count": 14,
   "metadata": {},
   "outputs": [],
   "source": [
    "# let's try go\n",
    "tx=[result.get('transactions') for result in results]\n",
    "#tx"
   ]
  },
  {
   "cell_type": "code",
   "execution_count": 15,
   "metadata": {},
   "outputs": [],
   "source": [
    "transac=pd.concat([pd.DataFrame(df).assign(customerId=customer_id) for customer_id, df in enumerate(tx)])"
   ]
  },
  {
   "cell_type": "code",
   "execution_count": 16,
   "metadata": {},
   "outputs": [
    {
     "data": {
      "text/html": [
       "<div>\n",
       "<style scoped>\n",
       "    .dataframe tbody tr th:only-of-type {\n",
       "        vertical-align: middle;\n",
       "    }\n",
       "\n",
       "    .dataframe tbody tr th {\n",
       "        vertical-align: top;\n",
       "    }\n",
       "\n",
       "    .dataframe thead th {\n",
       "        text-align: right;\n",
       "    }\n",
       "</style>\n",
       "<table border=\"1\" class=\"dataframe\">\n",
       "  <thead>\n",
       "    <tr style=\"text-align: right;\">\n",
       "      <th></th>\n",
       "      <th>transactionId</th>\n",
       "      <th>orderId</th>\n",
       "      <th>paymentMethodId</th>\n",
       "      <th>transactionAmount</th>\n",
       "      <th>transactionFailed</th>\n",
       "      <th>customerId</th>\n",
       "    </tr>\n",
       "  </thead>\n",
       "  <tbody>\n",
       "    <tr>\n",
       "      <th>0</th>\n",
       "      <td>a9lcj51r</td>\n",
       "      <td>vjbdvd</td>\n",
       "      <td>wt07xm68b</td>\n",
       "      <td>18.0</td>\n",
       "      <td>False</td>\n",
       "      <td>0</td>\n",
       "    </tr>\n",
       "    <tr>\n",
       "      <th>1</th>\n",
       "      <td>y4wcv03i</td>\n",
       "      <td>yp6x27</td>\n",
       "      <td>wt07xm68b</td>\n",
       "      <td>26.0</td>\n",
       "      <td>False</td>\n",
       "      <td>0</td>\n",
       "    </tr>\n",
       "    <tr>\n",
       "      <th>0</th>\n",
       "      <td>5mi94sfw</td>\n",
       "      <td>nlghpa</td>\n",
       "      <td>41ug157xz</td>\n",
       "      <td>45.0</td>\n",
       "      <td>False</td>\n",
       "      <td>1</td>\n",
       "    </tr>\n",
       "  </tbody>\n",
       "</table>\n",
       "</div>"
      ],
      "text/plain": [
       "  transactionId orderId paymentMethodId  transactionAmount transactionFailed  \\\n",
       "0      a9lcj51r  vjbdvd       wt07xm68b               18.0             False   \n",
       "1      y4wcv03i  yp6x27       wt07xm68b               26.0             False   \n",
       "0      5mi94sfw  nlghpa       41ug157xz               45.0             False   \n",
       "\n",
       "   customerId  \n",
       "0           0  \n",
       "1           0  \n",
       "0           1  "
      ]
     },
     "execution_count": 16,
     "metadata": {},
     "output_type": "execute_result"
    }
   ],
   "source": [
    "transac.head(3)"
   ]
  },
  {
   "cell_type": "code",
   "execution_count": 17,
   "metadata": {},
   "outputs": [],
   "source": [
    "pymts = [result.get('paymentMethods') for result in results]\n",
    "payment_methods = pd.concat([pd.DataFrame(df).assign(customerid=customer_id) for customer_id, df in enumerate(pymts)]).reset_index(drop=True)"
   ]
  },
  {
   "cell_type": "code",
   "execution_count": 18,
   "metadata": {},
   "outputs": [
    {
     "data": {
      "text/html": [
       "<div>\n",
       "<style scoped>\n",
       "    .dataframe tbody tr th:only-of-type {\n",
       "        vertical-align: middle;\n",
       "    }\n",
       "\n",
       "    .dataframe tbody tr th {\n",
       "        vertical-align: top;\n",
       "    }\n",
       "\n",
       "    .dataframe thead th {\n",
       "        text-align: right;\n",
       "    }\n",
       "</style>\n",
       "<table border=\"1\" class=\"dataframe\">\n",
       "  <thead>\n",
       "    <tr style=\"text-align: right;\">\n",
       "      <th></th>\n",
       "      <th>paymentMethodId</th>\n",
       "      <th>paymentMethodRegistrationFailure</th>\n",
       "      <th>paymentMethodType</th>\n",
       "      <th>paymentMethodProvider</th>\n",
       "      <th>paymentMethodIssuer</th>\n",
       "      <th>customerid</th>\n",
       "    </tr>\n",
       "  </thead>\n",
       "  <tbody>\n",
       "    <tr>\n",
       "      <th>0</th>\n",
       "      <td>wt07xm68b</td>\n",
       "      <td>True</td>\n",
       "      <td>card</td>\n",
       "      <td>JCB 16 digit</td>\n",
       "      <td>Citizens First Banks</td>\n",
       "      <td>0</td>\n",
       "    </tr>\n",
       "    <tr>\n",
       "      <th>1</th>\n",
       "      <td>y3xp697jx</td>\n",
       "      <td>True</td>\n",
       "      <td>bitcoin</td>\n",
       "      <td>VISA 16 digit</td>\n",
       "      <td>Solace Banks</td>\n",
       "      <td>1</td>\n",
       "    </tr>\n",
       "    <tr>\n",
       "      <th>2</th>\n",
       "      <td>6krszxc05</td>\n",
       "      <td>False</td>\n",
       "      <td>card</td>\n",
       "      <td>VISA 16 digit</td>\n",
       "      <td>Vertex Bancorp</td>\n",
       "      <td>1</td>\n",
       "    </tr>\n",
       "  </tbody>\n",
       "</table>\n",
       "</div>"
      ],
      "text/plain": [
       "  paymentMethodId paymentMethodRegistrationFailure paymentMethodType  \\\n",
       "0       wt07xm68b                             True              card   \n",
       "1       y3xp697jx                             True           bitcoin   \n",
       "2       6krszxc05                            False              card   \n",
       "\n",
       "  paymentMethodProvider   paymentMethodIssuer  customerid  \n",
       "0          JCB 16 digit  Citizens First Banks           0  \n",
       "1         VISA 16 digit          Solace Banks           1  \n",
       "2         VISA 16 digit        Vertex Bancorp           1  "
      ]
     },
     "execution_count": 18,
     "metadata": {},
     "output_type": "execute_result"
    }
   ],
   "source": [
    "payment_methods.head(3)"
   ]
  },
  {
   "cell_type": "code",
   "execution_count": 19,
   "metadata": {},
   "outputs": [],
   "source": [
    "orders_list = [result.get('orders') for result in results]\n",
    "orders = pd.concat([pd.DataFrame(df).assign(customerid=customer_id) for customer_id, df in enumerate(orders_list)]).reset_index(drop=True)"
   ]
  },
  {
   "cell_type": "code",
   "execution_count": 20,
   "metadata": {},
   "outputs": [
    {
     "data": {
      "text/html": [
       "<div>\n",
       "<style scoped>\n",
       "    .dataframe tbody tr th:only-of-type {\n",
       "        vertical-align: middle;\n",
       "    }\n",
       "\n",
       "    .dataframe tbody tr th {\n",
       "        vertical-align: top;\n",
       "    }\n",
       "\n",
       "    .dataframe thead th {\n",
       "        text-align: right;\n",
       "    }\n",
       "</style>\n",
       "<table border=\"1\" class=\"dataframe\">\n",
       "  <thead>\n",
       "    <tr style=\"text-align: right;\">\n",
       "      <th></th>\n",
       "      <th>orderId</th>\n",
       "      <th>orderAmount</th>\n",
       "      <th>orderState</th>\n",
       "      <th>orderShippingAddress</th>\n",
       "      <th>customerid</th>\n",
       "    </tr>\n",
       "  </thead>\n",
       "  <tbody>\n",
       "    <tr>\n",
       "      <th>0</th>\n",
       "      <td>vjbdvd</td>\n",
       "      <td>18.0</td>\n",
       "      <td>pending</td>\n",
       "      <td>5493 Jones Islands\\nBrownside, CA 51896</td>\n",
       "      <td>0</td>\n",
       "    </tr>\n",
       "    <tr>\n",
       "      <th>1</th>\n",
       "      <td>yp6x27</td>\n",
       "      <td>26.0</td>\n",
       "      <td>fulfilled</td>\n",
       "      <td>5493 Jones Islands\\nBrownside, CA 51896</td>\n",
       "      <td>0</td>\n",
       "    </tr>\n",
       "    <tr>\n",
       "      <th>2</th>\n",
       "      <td>nlghpa</td>\n",
       "      <td>45.0</td>\n",
       "      <td>fulfilled</td>\n",
       "      <td>898 Henry Ports\\nNew Keithview, CA 95893-2497</td>\n",
       "      <td>1</td>\n",
       "    </tr>\n",
       "  </tbody>\n",
       "</table>\n",
       "</div>"
      ],
      "text/plain": [
       "  orderId  orderAmount orderState  \\\n",
       "0  vjbdvd         18.0    pending   \n",
       "1  yp6x27         26.0  fulfilled   \n",
       "2  nlghpa         45.0  fulfilled   \n",
       "\n",
       "                            orderShippingAddress  customerid  \n",
       "0        5493 Jones Islands\\nBrownside, CA 51896           0  \n",
       "1        5493 Jones Islands\\nBrownside, CA 51896           0  \n",
       "2  898 Henry Ports\\nNew Keithview, CA 95893-2497           1  "
      ]
     },
     "execution_count": 20,
     "metadata": {},
     "output_type": "execute_result"
    }
   ],
   "source": [
    "orders.head(3)"
   ]
  },
  {
   "cell_type": "code",
   "execution_count": 21,
   "metadata": {},
   "outputs": [],
   "source": [
    "df=(\n",
    "    transac\n",
    "    .merge(orders, how='left', on='orderId')\n",
    "    .merge(customers, how='left', left_on='customerId',\n",
    "    right_index=True)\n",
    ")"
   ]
  },
  {
   "cell_type": "code",
   "execution_count": 22,
   "metadata": {},
   "outputs": [
    {
     "data": {
      "text/html": [
       "<div>\n",
       "<style scoped>\n",
       "    .dataframe tbody tr th:only-of-type {\n",
       "        vertical-align: middle;\n",
       "    }\n",
       "\n",
       "    .dataframe tbody tr th {\n",
       "        vertical-align: top;\n",
       "    }\n",
       "\n",
       "    .dataframe thead th {\n",
       "        text-align: right;\n",
       "    }\n",
       "</style>\n",
       "<table border=\"1\" class=\"dataframe\">\n",
       "  <thead>\n",
       "    <tr style=\"text-align: right;\">\n",
       "      <th></th>\n",
       "      <th>transactionId</th>\n",
       "      <th>orderId</th>\n",
       "      <th>paymentMethodId</th>\n",
       "      <th>transactionAmount</th>\n",
       "      <th>transactionFailed</th>\n",
       "      <th>customerId</th>\n",
       "      <th>orderAmount</th>\n",
       "      <th>orderState</th>\n",
       "      <th>orderShippingAddress</th>\n",
       "      <th>customerid</th>\n",
       "      <th>customerEmail</th>\n",
       "      <th>customerPhone</th>\n",
       "      <th>customerDevice</th>\n",
       "      <th>customerIPAddress</th>\n",
       "      <th>customerBillingAddress</th>\n",
       "      <th>fraudulent</th>\n",
       "    </tr>\n",
       "  </thead>\n",
       "  <tbody>\n",
       "    <tr>\n",
       "      <th>0</th>\n",
       "      <td>a9lcj51r</td>\n",
       "      <td>vjbdvd</td>\n",
       "      <td>wt07xm68b</td>\n",
       "      <td>18.0</td>\n",
       "      <td>False</td>\n",
       "      <td>0</td>\n",
       "      <td>18.0</td>\n",
       "      <td>pending</td>\n",
       "      <td>5493 Jones Islands\\nBrownside, CA 51896</td>\n",
       "      <td>0</td>\n",
       "      <td>josephhoward@yahoo.com</td>\n",
       "      <td>400-108-5415</td>\n",
       "      <td>yyeiaxpltf82440jnb3v</td>\n",
       "      <td>8.129.104.40</td>\n",
       "      <td>5493 Jones Islands\\nBrownside, CA 51896</td>\n",
       "      <td>False</td>\n",
       "    </tr>\n",
       "    <tr>\n",
       "      <th>1</th>\n",
       "      <td>y4wcv03i</td>\n",
       "      <td>yp6x27</td>\n",
       "      <td>wt07xm68b</td>\n",
       "      <td>26.0</td>\n",
       "      <td>False</td>\n",
       "      <td>0</td>\n",
       "      <td>26.0</td>\n",
       "      <td>fulfilled</td>\n",
       "      <td>5493 Jones Islands\\nBrownside, CA 51896</td>\n",
       "      <td>0</td>\n",
       "      <td>josephhoward@yahoo.com</td>\n",
       "      <td>400-108-5415</td>\n",
       "      <td>yyeiaxpltf82440jnb3v</td>\n",
       "      <td>8.129.104.40</td>\n",
       "      <td>5493 Jones Islands\\nBrownside, CA 51896</td>\n",
       "      <td>False</td>\n",
       "    </tr>\n",
       "    <tr>\n",
       "      <th>2</th>\n",
       "      <td>5mi94sfw</td>\n",
       "      <td>nlghpa</td>\n",
       "      <td>41ug157xz</td>\n",
       "      <td>45.0</td>\n",
       "      <td>False</td>\n",
       "      <td>1</td>\n",
       "      <td>45.0</td>\n",
       "      <td>fulfilled</td>\n",
       "      <td>898 Henry Ports\\nNew Keithview, CA 95893-2497</td>\n",
       "      <td>1</td>\n",
       "      <td>evansjeffery@yahoo.com</td>\n",
       "      <td>1-788-091-7546</td>\n",
       "      <td>r0jpm7xaeqqa3kr6mzum</td>\n",
       "      <td>219.173.211.202</td>\n",
       "      <td>356 Elizabeth Inlet Suite 120\\nPort Joshuabury...</td>\n",
       "      <td>True</td>\n",
       "    </tr>\n",
       "    <tr>\n",
       "      <th>3</th>\n",
       "      <td>br8ba1nu</td>\n",
       "      <td>uw0eeb</td>\n",
       "      <td>41ug157xz</td>\n",
       "      <td>23.0</td>\n",
       "      <td>False</td>\n",
       "      <td>1</td>\n",
       "      <td>23.0</td>\n",
       "      <td>fulfilled</td>\n",
       "      <td>356 Elizabeth Inlet Suite 120\\nPort Joshuabury...</td>\n",
       "      <td>1</td>\n",
       "      <td>evansjeffery@yahoo.com</td>\n",
       "      <td>1-788-091-7546</td>\n",
       "      <td>r0jpm7xaeqqa3kr6mzum</td>\n",
       "      <td>219.173.211.202</td>\n",
       "      <td>356 Elizabeth Inlet Suite 120\\nPort Joshuabury...</td>\n",
       "      <td>True</td>\n",
       "    </tr>\n",
       "    <tr>\n",
       "      <th>4</th>\n",
       "      <td>a33145ss</td>\n",
       "      <td>bn44oh</td>\n",
       "      <td>y3xp697jx</td>\n",
       "      <td>43.0</td>\n",
       "      <td>True</td>\n",
       "      <td>1</td>\n",
       "      <td>43.0</td>\n",
       "      <td>fulfilled</td>\n",
       "      <td>5093 Bryan Forks\\nJoshuaton, FM 01565-9801</td>\n",
       "      <td>1</td>\n",
       "      <td>evansjeffery@yahoo.com</td>\n",
       "      <td>1-788-091-7546</td>\n",
       "      <td>r0jpm7xaeqqa3kr6mzum</td>\n",
       "      <td>219.173.211.202</td>\n",
       "      <td>356 Elizabeth Inlet Suite 120\\nPort Joshuabury...</td>\n",
       "      <td>True</td>\n",
       "    </tr>\n",
       "  </tbody>\n",
       "</table>\n",
       "</div>"
      ],
      "text/plain": [
       "  transactionId orderId paymentMethodId  transactionAmount transactionFailed  \\\n",
       "0      a9lcj51r  vjbdvd       wt07xm68b               18.0             False   \n",
       "1      y4wcv03i  yp6x27       wt07xm68b               26.0             False   \n",
       "2      5mi94sfw  nlghpa       41ug157xz               45.0             False   \n",
       "3      br8ba1nu  uw0eeb       41ug157xz               23.0             False   \n",
       "4      a33145ss  bn44oh       y3xp697jx               43.0              True   \n",
       "\n",
       "   customerId  orderAmount orderState  \\\n",
       "0           0         18.0    pending   \n",
       "1           0         26.0  fulfilled   \n",
       "2           1         45.0  fulfilled   \n",
       "3           1         23.0  fulfilled   \n",
       "4           1         43.0  fulfilled   \n",
       "\n",
       "                                orderShippingAddress  customerid  \\\n",
       "0            5493 Jones Islands\\nBrownside, CA 51896           0   \n",
       "1            5493 Jones Islands\\nBrownside, CA 51896           0   \n",
       "2      898 Henry Ports\\nNew Keithview, CA 95893-2497           1   \n",
       "3  356 Elizabeth Inlet Suite 120\\nPort Joshuabury...           1   \n",
       "4         5093 Bryan Forks\\nJoshuaton, FM 01565-9801           1   \n",
       "\n",
       "            customerEmail   customerPhone        customerDevice  \\\n",
       "0  josephhoward@yahoo.com    400-108-5415  yyeiaxpltf82440jnb3v   \n",
       "1  josephhoward@yahoo.com    400-108-5415  yyeiaxpltf82440jnb3v   \n",
       "2  evansjeffery@yahoo.com  1-788-091-7546  r0jpm7xaeqqa3kr6mzum   \n",
       "3  evansjeffery@yahoo.com  1-788-091-7546  r0jpm7xaeqqa3kr6mzum   \n",
       "4  evansjeffery@yahoo.com  1-788-091-7546  r0jpm7xaeqqa3kr6mzum   \n",
       "\n",
       "  customerIPAddress                             customerBillingAddress  \\\n",
       "0      8.129.104.40            5493 Jones Islands\\nBrownside, CA 51896   \n",
       "1      8.129.104.40            5493 Jones Islands\\nBrownside, CA 51896   \n",
       "2   219.173.211.202  356 Elizabeth Inlet Suite 120\\nPort Joshuabury...   \n",
       "3   219.173.211.202  356 Elizabeth Inlet Suite 120\\nPort Joshuabury...   \n",
       "4   219.173.211.202  356 Elizabeth Inlet Suite 120\\nPort Joshuabury...   \n",
       "\n",
       "   fraudulent  \n",
       "0       False  \n",
       "1       False  \n",
       "2        True  \n",
       "3        True  \n",
       "4        True  "
      ]
     },
     "execution_count": 22,
     "metadata": {},
     "output_type": "execute_result"
    }
   ],
   "source": [
    "df.head()"
   ]
  },
  {
   "cell_type": "markdown",
   "metadata": {},
   "source": [
    "This is sometimes what you have to do as a data scientist. If you are new to json files, please consider consider \n",
    "understanding the structure of those files first and try dataframe shorter files before to jump on this notebook. "
   ]
  },
  {
   "cell_type": "code",
   "execution_count": null,
   "metadata": {},
   "outputs": [],
   "source": []
  }
 ],
 "metadata": {
  "kernelspec": {
   "display_name": "Python 3",
   "language": "python",
   "name": "python3"
  },
  "language_info": {
   "codemirror_mode": {
    "name": "ipython",
    "version": 3
   },
   "file_extension": ".py",
   "mimetype": "text/x-python",
   "name": "python",
   "nbconvert_exporter": "python",
   "pygments_lexer": "ipython3",
   "version": "3.7.5"
  }
 },
 "nbformat": 4,
 "nbformat_minor": 4
}
