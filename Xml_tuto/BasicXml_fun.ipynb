{
 "cells": [
  {
   "cell_type": "markdown",
   "metadata": {},
   "source": [
    "# BASIC XML TUTORIAL"
   ]
  },
  {
   "cell_type": "markdown",
   "metadata": {},
   "source": [
    "This is comprehensible tutorial for dealing with XML that have severals nodes. Although it is better to retrieve\n",
    "information by using recursion techniques. This notebook is purely a tutorial for those that those that are starting \n",
    "with python and Data Science. I will aslo recommend to read about Xml parsing before or while going through this file \n",
    ":)... Happy Pythonising"
   ]
  },
  {
   "cell_type": "code",
   "execution_count": 1,
   "metadata": {},
   "outputs": [],
   "source": [
    "import xml.etree.ElementTree as ET\n",
    "import pandas as pd"
   ]
  },
  {
   "cell_type": "code",
   "execution_count": 2,
   "metadata": {},
   "outputs": [],
   "source": [
    "try:  \n",
    "    tree = ET.parse('books.xml')\n",
    "    root = tree.getroot()\n",
    "    \n",
    "except IOError as e:\n",
    "    print ('Error: '% e)"
   ]
  },
  {
   "cell_type": "markdown",
   "metadata": {},
   "source": [
    "Now, please download the books.xml and look at it as you going through this notebook."
   ]
  },
  {
   "cell_type": "code",
   "execution_count": 3,
   "metadata": {},
   "outputs": [
    {
     "data": {
      "text/plain": [
       "12"
      ]
     },
     "execution_count": 3,
     "metadata": {},
     "output_type": "execute_result"
    }
   ],
   "source": [
    "len(root)"
   ]
  },
  {
   "cell_type": "code",
   "execution_count": 4,
   "metadata": {},
   "outputs": [
    {
     "name": "stdout",
     "output_type": "stream",
     "text": [
      "<Element 'catalog' at 0x7ff94af403b0>\n"
     ]
    }
   ],
   "source": [
    "# let's see wht I have got\n",
    "print (root) #Oops nothing"
   ]
  },
  {
   "cell_type": "code",
   "execution_count": 5,
   "metadata": {},
   "outputs": [
    {
     "name": "stdout",
     "output_type": "stream",
     "text": [
      "{}\n"
     ]
    }
   ],
   "source": [
    "# try this \n",
    "print (root.attrib)"
   ]
  },
  {
   "cell_type": "code",
   "execution_count": 6,
   "metadata": {},
   "outputs": [
    {
     "name": "stdout",
     "output_type": "stream",
     "text": [
      "<Element 'book' at 0x7ff94af40470>\n",
      "<Element 'book' at 0x7ff94af407d0>\n",
      "<Element 'book' at 0x7ff94af40ad0>\n",
      "<Element 'book' at 0x7ff94af40e30>\n",
      "<Element 'book' at 0x7ff94af48170>\n",
      "<Element 'book' at 0x7ff94af48470>\n",
      "<Element 'book' at 0x7ff94af48770>\n",
      "<Element 'book' at 0x7ff94af48ad0>\n",
      "<Element 'book' at 0x7ff94af48e30>\n",
      "<Element 'book' at 0x7ff94af4c170>\n",
      "<Element 'book' at 0x7ff94af4c4d0>\n",
      "<Element 'book' at 0x7ff94af4c7d0>\n"
     ]
    }
   ],
   "source": [
    "# let's see the what we have in the root.\n",
    "for child in root:\n",
    "    print (child)\n",
    "    \n",
    "#As you can see we have many parents nodes all them called book"
   ]
  },
  {
   "cell_type": "code",
   "execution_count": 7,
   "metadata": {},
   "outputs": [
    {
     "data": {
      "text/plain": [
       "6"
      ]
     },
     "execution_count": 7,
     "metadata": {},
     "output_type": "execute_result"
    }
   ],
   "source": [
    "# sniffing the length of node \n",
    "len(root[0])"
   ]
  },
  {
   "cell_type": "code",
   "execution_count": 8,
   "metadata": {},
   "outputs": [],
   "source": [
    "# these are a tags\n",
    "#for i in root[0]:\n",
    "    #print (root[0].tag)"
   ]
  },
  {
   "cell_type": "code",
   "execution_count": 9,
   "metadata": {},
   "outputs": [],
   "source": [
    "# these are the attributes\n",
    "#for i in root[0]:\n",
    "    #print (root[0].attrib)"
   ]
  },
  {
   "cell_type": "code",
   "execution_count": 10,
   "metadata": {},
   "outputs": [
    {
     "name": "stdout",
     "output_type": "stream",
     "text": [
      "tag = author , data= Gambardella, Matthew\n",
      "tag = title , data= XML Developer's Guide\n",
      "tag = genre , data= Computer\n",
      "tag = price , data= 44.95\n",
      "tag = publish_date , data= 2000-10-01\n",
      "tag = description , data= An in-depth look at creating applications \n",
      "      with XML.\n"
     ]
    }
   ],
   "source": [
    "# let's sniff the structure\n",
    "for i in root[0]:\n",
    "    print ('tag =',i.tag, ', data=', i.text)"
   ]
  },
  {
   "cell_type": "code",
   "execution_count": 11,
   "metadata": {},
   "outputs": [
    {
     "name": "stdout",
     "output_type": "stream",
     "text": [
      "tag = author , data= Ralls, Kim\n",
      "tag = title , data= Midnight Rain\n",
      "tag = genre , data= Fantasy\n",
      "tag = price , data= 5.95\n",
      "tag = publish_date , data= 2000-12-16\n",
      "tag = description , data= A former architect battles corporate zombies, \n",
      "      an evil sorceress, and her own childhood to become queen \n",
      "      of the world.\n"
     ]
    }
   ],
   "source": [
    "for i in root[1]:\n",
    "    print ('tag =',i.tag, ', data=', i.text)"
   ]
  },
  {
   "cell_type": "markdown",
   "metadata": {},
   "source": [
    "The parent nodes look the same. Just to be sure, I now want to see  if there all the nodes have exactly the same elements"
   ]
  },
  {
   "cell_type": "code",
   "execution_count": 12,
   "metadata": {},
   "outputs": [
    {
     "name": "stdout",
     "output_type": "stream",
     "text": [
      "author\n",
      "title\n",
      "genre\n",
      "price\n",
      "publish_date\n",
      "description\n",
      "author\n",
      "title\n",
      "genre\n",
      "price\n",
      "publish_date\n",
      "description\n",
      "author\n",
      "title\n",
      "genre\n",
      "price\n",
      "publish_date\n",
      "description\n",
      "author\n",
      "title\n",
      "genre\n",
      "price\n",
      "publish_date\n",
      "description\n",
      "author\n",
      "title\n",
      "genre\n",
      "price\n",
      "publish_date\n",
      "description\n",
      "author\n",
      "title\n",
      "genre\n",
      "price\n",
      "publish_date\n",
      "description\n",
      "author\n",
      "title\n",
      "genre\n",
      "price\n",
      "publish_date\n",
      "description\n",
      "author\n",
      "title\n",
      "genre\n",
      "price\n",
      "publish_date\n",
      "description\n",
      "author\n",
      "title\n",
      "genre\n",
      "price\n",
      "publish_date\n",
      "description\n",
      "author\n",
      "title\n",
      "genre\n",
      "price\n",
      "publish_date\n",
      "description\n",
      "author\n",
      "title\n",
      "genre\n",
      "price\n",
      "publish_date\n",
      "description\n",
      "author\n",
      "title\n",
      "genre\n",
      "price\n",
      "publish_date\n",
      "description\n"
     ]
    }
   ],
   "source": [
    "tag_list=[]\n",
    "for i in range(len(root)):\n",
    "    for child in root[i]:\n",
    "            print(child.tag)\n",
    "            tag_list.append(child.tag)\n",
    "            "
   ]
  },
  {
   "cell_type": "markdown",
   "metadata": {},
   "source": [
    "it looks like they all have the same elements. now lets check if they have the same numbers of elements."
   ]
  },
  {
   "cell_type": "code",
   "execution_count": 13,
   "metadata": {},
   "outputs": [
    {
     "name": "stdout",
     "output_type": "stream",
     "text": [
      "{'author': 12, 'title': 12, 'genre': 12, 'price': 12, 'publish_date': 12, 'description': 12}\n"
     ]
    }
   ],
   "source": [
    "tag_count={i:tag_list.count(i) for i in tag_list}\n",
    "print (tag_count)"
   ]
  },
  {
   "cell_type": "markdown",
   "metadata": {},
   "source": [
    "### Perfect!! "
   ]
  },
  {
   "cell_type": "code",
   "execution_count": 14,
   "metadata": {},
   "outputs": [],
   "source": [
    "author=[]\n",
    "title=[]\n",
    "genre=[]\n",
    "price=[]\n",
    "publish_date=[]\n",
    "description=[]\n",
    "\n",
    "\n",
    "for i in range(len(root)):\n",
    "\n",
    "    auth= root[i].find('author').text\n",
    "    author.append(auth)\n",
    "            \n",
    "    tit= root[i].find('title').text\n",
    "    title.append(tit)\n",
    "            \n",
    "    gen=root[i].find('genre').text\n",
    "    genre.append(gen)\n",
    "            \n",
    "    pri=float(root[i].find('price').text)\n",
    "    price.append(pri)\n",
    "            \n",
    "    publish=root[i].find('publish_date').text\n",
    "    publish_date.append(publish)\n",
    "            \n",
    "    desc=root[i].find('description').text.strip()\n",
    "    description.append(desc)\n",
    "            \n",
    "\n",
    "rows={'author':author,'title':title,'genre':genre,'price':price, 'publish_date':publish_date, 'description':description}"
   ]
  },
  {
   "cell_type": "code",
   "execution_count": 15,
   "metadata": {},
   "outputs": [
    {
     "data": {
      "text/html": [
       "<div>\n",
       "<style scoped>\n",
       "    .dataframe tbody tr th:only-of-type {\n",
       "        vertical-align: middle;\n",
       "    }\n",
       "\n",
       "    .dataframe tbody tr th {\n",
       "        vertical-align: top;\n",
       "    }\n",
       "\n",
       "    .dataframe thead th {\n",
       "        text-align: right;\n",
       "    }\n",
       "</style>\n",
       "<table border=\"1\" class=\"dataframe\">\n",
       "  <thead>\n",
       "    <tr style=\"text-align: right;\">\n",
       "      <th></th>\n",
       "      <th>author</th>\n",
       "      <th>title</th>\n",
       "      <th>genre</th>\n",
       "      <th>price</th>\n",
       "      <th>publish_date</th>\n",
       "      <th>description</th>\n",
       "    </tr>\n",
       "  </thead>\n",
       "  <tbody>\n",
       "    <tr>\n",
       "      <th>0</th>\n",
       "      <td>Gambardella, Matthew</td>\n",
       "      <td>XML Developer's Guide</td>\n",
       "      <td>Computer</td>\n",
       "      <td>44.95</td>\n",
       "      <td>2000-10-01</td>\n",
       "      <td>An in-depth look at creating applications \\n  ...</td>\n",
       "    </tr>\n",
       "    <tr>\n",
       "      <th>1</th>\n",
       "      <td>Ralls, Kim</td>\n",
       "      <td>Midnight Rain</td>\n",
       "      <td>Fantasy</td>\n",
       "      <td>5.95</td>\n",
       "      <td>2000-12-16</td>\n",
       "      <td>A former architect battles corporate zombies, ...</td>\n",
       "    </tr>\n",
       "    <tr>\n",
       "      <th>2</th>\n",
       "      <td>Corets, Eva</td>\n",
       "      <td>Maeve Ascendant</td>\n",
       "      <td>Fantasy</td>\n",
       "      <td>5.95</td>\n",
       "      <td>2000-11-17</td>\n",
       "      <td>After the collapse of a nanotechnology \\n     ...</td>\n",
       "    </tr>\n",
       "    <tr>\n",
       "      <th>3</th>\n",
       "      <td>Corets, Eva</td>\n",
       "      <td>Oberon's Legacy</td>\n",
       "      <td>Fantasy</td>\n",
       "      <td>5.95</td>\n",
       "      <td>2001-03-10</td>\n",
       "      <td>In post-apocalypse England, the mysterious \\n ...</td>\n",
       "    </tr>\n",
       "    <tr>\n",
       "      <th>4</th>\n",
       "      <td>Corets, Eva</td>\n",
       "      <td>The Sundered Grail</td>\n",
       "      <td>Fantasy</td>\n",
       "      <td>5.95</td>\n",
       "      <td>2001-09-10</td>\n",
       "      <td>The two daughters of Maeve, half-sisters, \\n  ...</td>\n",
       "    </tr>\n",
       "    <tr>\n",
       "      <th>5</th>\n",
       "      <td>Randall, Cynthia</td>\n",
       "      <td>Lover Birds</td>\n",
       "      <td>Romance</td>\n",
       "      <td>4.95</td>\n",
       "      <td>2000-09-02</td>\n",
       "      <td>When Carla meets Paul at an ornithology \\n    ...</td>\n",
       "    </tr>\n",
       "    <tr>\n",
       "      <th>6</th>\n",
       "      <td>Thurman, Paula</td>\n",
       "      <td>Splish Splash</td>\n",
       "      <td>Romance</td>\n",
       "      <td>4.95</td>\n",
       "      <td>2000-11-02</td>\n",
       "      <td>A deep sea diver finds true love twenty \\n    ...</td>\n",
       "    </tr>\n",
       "    <tr>\n",
       "      <th>7</th>\n",
       "      <td>Knorr, Stefan</td>\n",
       "      <td>Creepy Crawlies</td>\n",
       "      <td>Horror</td>\n",
       "      <td>4.95</td>\n",
       "      <td>2000-12-06</td>\n",
       "      <td>An anthology of horror stories about roaches,\\...</td>\n",
       "    </tr>\n",
       "    <tr>\n",
       "      <th>8</th>\n",
       "      <td>Kress, Peter</td>\n",
       "      <td>Paradox Lost</td>\n",
       "      <td>Science Fiction</td>\n",
       "      <td>6.95</td>\n",
       "      <td>2000-11-02</td>\n",
       "      <td>After an inadvertant trip through a Heisenberg...</td>\n",
       "    </tr>\n",
       "    <tr>\n",
       "      <th>9</th>\n",
       "      <td>O'Brien, Tim</td>\n",
       "      <td>Microsoft .NET: The Programming Bible</td>\n",
       "      <td>Computer</td>\n",
       "      <td>36.95</td>\n",
       "      <td>2000-12-09</td>\n",
       "      <td>Microsoft's .NET initiative is explored in \\n ...</td>\n",
       "    </tr>\n",
       "    <tr>\n",
       "      <th>10</th>\n",
       "      <td>O'Brien, Tim</td>\n",
       "      <td>MSXML3: A Comprehensive Guide</td>\n",
       "      <td>Computer</td>\n",
       "      <td>36.95</td>\n",
       "      <td>2000-12-01</td>\n",
       "      <td>The Microsoft MSXML3 parser is covered in \\n  ...</td>\n",
       "    </tr>\n",
       "    <tr>\n",
       "      <th>11</th>\n",
       "      <td>Galos, Mike</td>\n",
       "      <td>Visual Studio 7: A Comprehensive Guide</td>\n",
       "      <td>Computer</td>\n",
       "      <td>49.95</td>\n",
       "      <td>2001-04-16</td>\n",
       "      <td>Microsoft Visual Studio 7 is explored in depth...</td>\n",
       "    </tr>\n",
       "  </tbody>\n",
       "</table>\n",
       "</div>"
      ],
      "text/plain": [
       "                  author                                   title  \\\n",
       "0   Gambardella, Matthew                   XML Developer's Guide   \n",
       "1             Ralls, Kim                           Midnight Rain   \n",
       "2            Corets, Eva                         Maeve Ascendant   \n",
       "3            Corets, Eva                         Oberon's Legacy   \n",
       "4            Corets, Eva                      The Sundered Grail   \n",
       "5       Randall, Cynthia                             Lover Birds   \n",
       "6         Thurman, Paula                           Splish Splash   \n",
       "7          Knorr, Stefan                         Creepy Crawlies   \n",
       "8           Kress, Peter                            Paradox Lost   \n",
       "9           O'Brien, Tim   Microsoft .NET: The Programming Bible   \n",
       "10          O'Brien, Tim           MSXML3: A Comprehensive Guide   \n",
       "11           Galos, Mike  Visual Studio 7: A Comprehensive Guide   \n",
       "\n",
       "              genre  price publish_date  \\\n",
       "0          Computer  44.95   2000-10-01   \n",
       "1           Fantasy   5.95   2000-12-16   \n",
       "2           Fantasy   5.95   2000-11-17   \n",
       "3           Fantasy   5.95   2001-03-10   \n",
       "4           Fantasy   5.95   2001-09-10   \n",
       "5           Romance   4.95   2000-09-02   \n",
       "6           Romance   4.95   2000-11-02   \n",
       "7            Horror   4.95   2000-12-06   \n",
       "8   Science Fiction   6.95   2000-11-02   \n",
       "9          Computer  36.95   2000-12-09   \n",
       "10         Computer  36.95   2000-12-01   \n",
       "11         Computer  49.95   2001-04-16   \n",
       "\n",
       "                                          description  \n",
       "0   An in-depth look at creating applications \\n  ...  \n",
       "1   A former architect battles corporate zombies, ...  \n",
       "2   After the collapse of a nanotechnology \\n     ...  \n",
       "3   In post-apocalypse England, the mysterious \\n ...  \n",
       "4   The two daughters of Maeve, half-sisters, \\n  ...  \n",
       "5   When Carla meets Paul at an ornithology \\n    ...  \n",
       "6   A deep sea diver finds true love twenty \\n    ...  \n",
       "7   An anthology of horror stories about roaches,\\...  \n",
       "8   After an inadvertant trip through a Heisenberg...  \n",
       "9   Microsoft's .NET initiative is explored in \\n ...  \n",
       "10  The Microsoft MSXML3 parser is covered in \\n  ...  \n",
       "11  Microsoft Visual Studio 7 is explored in depth...  "
      ]
     },
     "execution_count": 15,
     "metadata": {},
     "output_type": "execute_result"
    }
   ],
   "source": [
    "books=pd.DataFrame(rows)\n",
    "books"
   ]
  },
  {
   "cell_type": "code",
   "execution_count": 16,
   "metadata": {},
   "outputs": [],
   "source": [
    "book_report=pd.DataFrame(books.groupby('genre').agg({'genre':'count', \n",
    "            'price':'mean'}).rename(columns={'price':'Avg_price', 'genre':'Qunatity'}))"
   ]
  },
  {
   "cell_type": "code",
   "execution_count": 17,
   "metadata": {},
   "outputs": [
    {
     "data": {
      "text/html": [
       "<div>\n",
       "<style scoped>\n",
       "    .dataframe tbody tr th:only-of-type {\n",
       "        vertical-align: middle;\n",
       "    }\n",
       "\n",
       "    .dataframe tbody tr th {\n",
       "        vertical-align: top;\n",
       "    }\n",
       "\n",
       "    .dataframe thead th {\n",
       "        text-align: right;\n",
       "    }\n",
       "</style>\n",
       "<table border=\"1\" class=\"dataframe\">\n",
       "  <thead>\n",
       "    <tr style=\"text-align: right;\">\n",
       "      <th></th>\n",
       "      <th>Qunatity</th>\n",
       "      <th>Avg_price</th>\n",
       "    </tr>\n",
       "    <tr>\n",
       "      <th>genre</th>\n",
       "      <th></th>\n",
       "      <th></th>\n",
       "    </tr>\n",
       "  </thead>\n",
       "  <tbody>\n",
       "    <tr>\n",
       "      <th>Computer</th>\n",
       "      <td>4</td>\n",
       "      <td>42.20</td>\n",
       "    </tr>\n",
       "    <tr>\n",
       "      <th>Fantasy</th>\n",
       "      <td>4</td>\n",
       "      <td>5.95</td>\n",
       "    </tr>\n",
       "    <tr>\n",
       "      <th>Horror</th>\n",
       "      <td>1</td>\n",
       "      <td>4.95</td>\n",
       "    </tr>\n",
       "    <tr>\n",
       "      <th>Romance</th>\n",
       "      <td>2</td>\n",
       "      <td>4.95</td>\n",
       "    </tr>\n",
       "    <tr>\n",
       "      <th>Science Fiction</th>\n",
       "      <td>1</td>\n",
       "      <td>6.95</td>\n",
       "    </tr>\n",
       "  </tbody>\n",
       "</table>\n",
       "</div>"
      ],
      "text/plain": [
       "                 Qunatity  Avg_price\n",
       "genre                               \n",
       "Computer                4      42.20\n",
       "Fantasy                 4       5.95\n",
       "Horror                  1       4.95\n",
       "Romance                 2       4.95\n",
       "Science Fiction         1       6.95"
      ]
     },
     "execution_count": 17,
     "metadata": {},
     "output_type": "execute_result"
    }
   ],
   "source": [
    "book_report"
   ]
  },
  {
   "cell_type": "code",
   "execution_count": null,
   "metadata": {},
   "outputs": [],
   "source": []
  }
 ],
 "metadata": {
  "kernelspec": {
   "display_name": "Python 3",
   "language": "python",
   "name": "python3"
  },
  "language_info": {
   "codemirror_mode": {
    "name": "ipython",
    "version": 3
   },
   "file_extension": ".py",
   "mimetype": "text/x-python",
   "name": "python",
   "nbconvert_exporter": "python",
   "pygments_lexer": "ipython3",
   "version": "3.7.5"
  }
 },
 "nbformat": 4,
 "nbformat_minor": 4
}
